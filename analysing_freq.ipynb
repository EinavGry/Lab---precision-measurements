{
 "cells": [
  {
   "cell_type": "code",
   "execution_count": 8,
   "metadata": {},
   "outputs": [
    {
     "name": "stdout",
     "output_type": "stream",
     "text": [
      "ok\n",
      "done\n"
     ]
    }
   ],
   "source": [
    "# Importing modules\n",
    "import numpy as np\n",
    "from matplotlib import pyplot as plt\n",
    "import os\n",
    "import datetime\n",
    "import timeit\n",
    "import time\n",
    "import pickle\n",
    "from statistics import mean \n",
    "from os.path import dirname as up\n",
    "print(\"ok\")\n",
    "\n",
    "# setting path to data\n",
    "repo_path = os.getcwd()\n",
    "\n",
    "# functions to use:\n",
    "def round_done(repo_path):\n",
    "    os.chdir(repo_path)\n",
    "    print(\"done\")\n",
    "\n",
    "def plotting_saving(t,x,start_time,plt_num):\n",
    "    add_the_time = datetime.datetime.fromtimestamp(start_time).strftime('%Y%m%d_%H%M')\n",
    "    print(add_the_time)\n",
    "    plt.title(datetime.datetime.fromtimestamp(start_time).strftime('plt'+plt_num+' - ch?, bad documentation : %Y-%m-%d, at %H:%M:%S'))\n",
    "    plt.xlabel('time [min]')\n",
    "    plt.ylabel('[Volt]]')\n",
    "    plt.scatter(t, x,s = 1)\n",
    "    save_name = \"fig_\"+add_the_time+\"_plt\"+plt_num+\"_min\"\n",
    "    plt.savefig(save_name ,bbox_inches='tight')\n",
    "    plt.show()\n",
    "    \n",
    "def plotting_saving_ch(t,x,start_time,ch_num,ch_name):\n",
    "    # change to saving-directory\n",
    "    save_to_path = os.path.join(repo_path, \"figs\")\n",
    "    os.chdir(save_to_path)\n",
    "    #\n",
    "    add_the_time = datetime.datetime.fromtimestamp(start_time).strftime('%Y%m%d_%H%M')\n",
    "    print(add_the_time)\n",
    "    plt.title(datetime.datetime.fromtimestamp(start_time).strftime(ch_num+', '+ch_name+ ': %Y-%m-%d, at %H:%M:%S'))\n",
    "    plt.xlabel('time [min]')\n",
    "    plt.ylabel('[Volt]]')\n",
    "    plt.scatter(t, x,s = 1)\n",
    "    save_name = \"fig_\"+add_the_time+\"_\"+ch_num+\"_min\"\n",
    "    plt.savefig(save_name ,bbox_inches='tight')\n",
    "    plt.show()\n",
    "\n",
    "def get_pickle_path(repo_path):\n",
    "    two_up_path = up(up(repo_path))\n",
    "    python_file_path = os.path.join(two_up_path, \"Python\")\n",
    "    pickle_path = os.path.join(python_file_path, \"Pickle_data\") \n",
    "    return pickle_path    \n",
    "# save_to_path = os.path.join(repo_path, \"figs\")\n",
    "# os.chdir(save_to_path)\n",
    "\n",
    "print(\"done\")\n",
    "\n",
    "# go back to original directory\n",
    "os.chdir(repo_path)\n",
    "\n",
    "# print( os.getcwd())\n",
    "# # set path to get data\n",
    "# pickle_path = get_pickle_path(repo_path)\n",
    "# os.chdir(pickle_path)\n",
    "# print( os.getcwd())\n",
    "# round_done(repo_path)\n",
    "# print( os.getcwd())"
   ]
  },
  {
   "cell_type": "code",
   "execution_count": null,
   "metadata": {},
   "outputs": [],
   "source": []
  },
  {
   "cell_type": "code",
   "execution_count": 10,
   "metadata": {},
   "outputs": [
    {
     "name": "stdout",
     "output_type": "stream",
     "text": [
      "2\n",
      "4\n",
      "done\n",
      "160662 15.08319\n"
     ]
    },
    {
     "data": {
      "image/png": "[encoded data removed]",
      "text/plain": [
       "<Figure size 432x288 with 1 Axes>"
      ]
     },
     "metadata": {
      "needs_background": "light"
     },
     "output_type": "display_data"
    },
    {
     "name": "stdout",
     "output_type": "stream",
     "text": [
      "5.383537931074416 323.012275864465\n"
     ]
    },
    {
     "data": {
      "image/png": "[encoded data removed]",
      "text/plain": [
       "<Figure size 432x288 with 1 Axes>"
      ]
     },
     "metadata": {
      "needs_background": "light"
     },
     "output_type": "display_data"
    }
   ],
   "source": [
    "# 20200913_1601\n",
    "time_stamps = []\n",
    "\n",
    "# set path to get data\n",
    "pickle_path = get_pickle_path(repo_path)\n",
    "os.chdir(pickle_path)\n",
    "\n",
    "# get data\n",
    "file_name = 'data_200913n1600.pickle'\n",
    "# list_of_files_yet_to_open.remove(file_name)\n",
    "f = open(file_name,'rb')\n",
    "scope_data = pickle.load(f)\n",
    "# print(scope_data)\n",
    "# print(len(scope_data))\n",
    "\n",
    "def plotting_saving_ch(t,x,start_time,ch_num,ch_name):\n",
    "    # change to saving-directory\n",
    "    save_to_path = os.path.join(repo_path, \"figs\")\n",
    "    os.chdir(save_to_path)\n",
    "    #\n",
    "    add_the_time = datetime.datetime.fromtimestamp(start_time).strftime('%Y%m%d_%H%M')\n",
    "    print(add_the_time)\n",
    "    plt.title(datetime.datetime.fromtimestamp(start_time).strftime(ch_num+', '+ch_name+ ': %Y-%m-%d, at %H:%M:%S'))\n",
    "    plt.xlabel('time [min]')\n",
    "    plt.ylabel('[Volt]]')\n",
    "    plt.scatter(t, x,s = 1)\n",
    "    save_name = \"fig_\"+add_the_time+\"_\"+ch_num+\"_min\"\n",
    "    plt.savefig(save_name ,bbox_inches='tight')\n",
    "    plt.show()\n",
    "\n",
    "n = 0\n",
    "with open(file_name, 'rb') as handle:\n",
    "        try:\n",
    "            while True:\n",
    "                temp_array = pickle.load(handle)\n",
    "                print(len(temp_array))\n",
    "                if len(temp_array) == 2:\n",
    "                    start_time = temp_array[0][0]\n",
    "                    t = temp_array[0][1:]\n",
    "                    x = temp_array[1]\n",
    "                    plt_num = n\n",
    "                    ch_num = 'ch1'\n",
    "                    ch_name ='amplified signal'\n",
    "#                     plotting_saving_ch(t,x,start_time,ch_num,ch_name)\n",
    "                    n=n+1\n",
    "                    # set path to get data\n",
    "                    pickle_path = get_pickle_path(repo_path)\n",
    "                    os.chdir(pickle_path)\n",
    "#                 else:\n",
    "#                     start_time = temp_array[0][0]\n",
    "#                     t1 = temp_array[0][1:]\n",
    "#                     x1 = temp_array[1]\n",
    "#                     t2 = temp_array[2][1:]\n",
    "#                     x2 = temp_array[3]\n",
    "#                     # change to saving-directory\n",
    "#                     save_to_path = os.path.join(repo_path, \"figs\")\n",
    "#                     os.chdir(save_to_path)\n",
    "#                     plt_num = str(n+1)\n",
    "#                     plotting_saving(t1,x1,start_time,plt_num)\n",
    "#                     plt_num = str(n+2)\n",
    "#                     plotting_saving(t2,x2,start_time,plt_num)\n",
    "#                     n = n+2\n",
    "#                     # set path to get data\n",
    "                    pickle_path = get_pickle_path(repo_path)\n",
    "                    os.chdir(pickle_path)\n",
    "        except EOFError:\n",
    "            pass\n",
    "        \n",
    "round_done(repo_path)\n",
    "\n",
    "idx = x.index(max(x))\n",
    "print(x.index(max(x)),max(x))\n",
    "plt.scatter(t[:idx], x[:idx],s = 1)\n",
    "plt.show()\n",
    "\n",
    "%matplotlib inline\n",
    "# %matplotlib\n",
    "import numpy as np\n",
    "from scipy.fft import fft\n",
    "\n",
    "t_vec = t[:idx]\n",
    "t_vec_s = ([var*60 for var in t_vec]) #t vec in [seconds]\n",
    "data_vec = x[:idx]\n",
    "\n",
    "N = len(data_vec)\n",
    "# N = Number of points\n",
    "\n",
    "# sample spacing\n",
    "dt = np.diff(t_vec_s)[0]\n",
    "sample_rate = 1/dt\n",
    "\n",
    "F_data = fft(data_vec)\n",
    "F_frequency = np.linspace(0.0, 1.0/(2.0*dt), N//2)\n",
    "print(t_vec[-1],t_vec_s[-1])\n",
    "\n",
    "plt.plot(F_frequency, 2.0/N * np.abs(F_data[0:N//2]))\n",
    "plt.grid()\n",
    "plt.show()\n",
    "\n",
    "def draw_fft(t_sec,x):\n",
    "    N = len(x)\n",
    "    dt = np.diff(t_sec)[2] #change this to an avg or mean at a later time.\n",
    "    F_data = fft(x)\n",
    "    F_frequency = np.linspace(0.0, 1.0/(2.0*dt), N//2)\n",
    "    plt.plot(F_frequency, 2.0/N * np.abs(F_data[0:N//2]))\n",
    "    f_data = 2.0/N * np.abs(F_data[0:N//2])\n",
    "    plt.grid()\n",
    "    plt.show()\n",
    "    return F_frequency, f_data\n"
   ]
  },
  {
   "cell_type": "code",
   "execution_count": 11,
   "metadata": {},
   "outputs": [
    {
     "data": {
      "image/png": "[encoded data removed]",
      "text/plain": [
       "<Figure size 432x288 with 1 Axes>"
      ]
     },
     "metadata": {
      "needs_background": "light"
     },
     "output_type": "display_data"
    },
    {
     "data": {
      "image/png": "[encoded data removed]",
      "text/plain": [
       "<Figure size 432x288 with 1 Axes>"
      ]
     },
     "metadata": {
      "needs_background": "light"
     },
     "output_type": "display_data"
    }
   ],
   "source": [
    "# t [sec],    x[Volts]\n",
    "ft,fx = draw_fft(t_vec_s,data_vec)\n",
    "here = 500\n",
    "plt.plot(ft[:here], fx[:here])\n",
    "plt.grid()\n",
    "plt.show()"
   ]
  },
  {
   "cell_type": "code",
   "execution_count": null,
   "metadata": {},
   "outputs": [
    {
     "name": "stdout",
     "output_type": "stream",
     "text": [
      "20201012_1508\n",
      "9\n",
      "9\n",
      "9\n",
      "9\n",
      "9\n",
      "9\n",
      "9\n",
      "9\n",
      "9\n",
      "20201012_1508\n"
     ]
    },
    {
     "data": {
      "image/png": "[encoded data removed]",
      "text/plain": [
       "<Figure size 432x288 with 1 Axes>"
      ]
     },
     "metadata": {
      "needs_background": "light"
     },
     "output_type": "display_data"
    },
    {
     "name": "stdout",
     "output_type": "stream",
     "text": [
      "20201012_1508\n"
     ]
    }
   ],
   "source": [
    "# 20201012_1508\n",
    "\n",
    "# set path to get data\n",
    "pickle_path = get_pickle_path(repo_path)\n",
    "os.chdir(pickle_path)\n",
    "\n",
    "file_name = \"data_20201012_1507.pickle\"\n",
    "t1 ,x1,t3,x3,t4,x4 = open_from_pickle(file_name)\n",
    "t_vec_s = ([var*60 for var in t1]) #t vec in [seconds]\n",
    "data_vec = x\n",
    "ft,fx = draw_fft(t_vec_s,data_vec)\n",
    "here = 500\n",
    "plt.plot(ft[:here], fx[:here])\n",
    "plt.grid()\n",
    "plt.show()\n",
    "\n",
    "round_done(repo_path)\n"
   ]
  },
  {
   "cell_type": "code",
   "execution_count": null,
   "metadata": {},
   "outputs": [],
   "source": [
    "t_vec_s = ([var*60 for var in t1]) #t vec in [seconds]\n",
    "data_vec = x\n",
    "ft,fx = draw_fft(t_vec_s,data_vec)\n",
    "here = 500\n",
    "plt.plot(ft[:here], fx[:here])\n",
    "plt.grid()\n",
    "plt.show()\n"
   ]
  },
  {
   "cell_type": "code",
   "execution_count": null,
   "metadata": {},
   "outputs": [],
   "source": [
    "# get correct folder\n"
   ]
  },
  {
   "cell_type": "code",
   "execution_count": null,
   "metadata": {},
   "outputs": [],
   "source": []
  },
  {
   "cell_type": "code",
   "execution_count": 17,
   "metadata": {},
   "outputs": [],
   "source": [
    "def open_from_pickle(file_name,ch1_plot_title='ch1', ch3_plot_title='ch3',ch4_plot_title='ch4'):\n",
    "    # get data\n",
    "    f = open(file_name,'rb')\n",
    "    scope_data = pickle.load(f)\n",
    "    # print(scope_data)\n",
    "#     print(len(scope_data))\n",
    "    start_time = scope_data[2]\n",
    "\n",
    "\n",
    "    ch1_data = []\n",
    "    ch1_time = []\n",
    "    ch4_data = []\n",
    "    ch4_time = []\n",
    "    ch3_data = []\n",
    "    ch3_time = []\n",
    "#     print(start_time)\n",
    "    add_the_time = datetime.datetime.fromtimestamp(start_time).strftime('%Y%m%d_%H%M')\n",
    "    print(add_the_time)\n",
    "\n",
    "    with open(file_name, 'rb') as handle:\n",
    "            try:\n",
    "                while True:\n",
    "                    temp_array = pickle.load(handle)\n",
    "                    print(len(temp_array))\n",
    "    #                 print(temp_array[0])\n",
    "\n",
    "                    data_time = temp_array[2]\n",
    "                    time_diff = (data_time - start_time)/60\n",
    "                    new_ch1_data = temp_array[3]\n",
    "                    time_vec = temp_array[4]\n",
    "\n",
    "\n",
    "                    ch1_t =[t+time_diff for t in time_vec] # [(data_time+t-start_time)/60 for t in time_vec]\n",
    "                    ch1_data = ch1_data + new_ch1_data\n",
    "                    ch1_time = ch1_time + ch1_t\n",
    "\n",
    "                    new_ch3_data = temp_array[5]\n",
    "                    ch3_time_vec = temp_array[6]\n",
    "                    ch3_t =[t+time_diff for t in ch3_time_vec] # [data_time+t-start_time for t in ch3_time_vec]\n",
    "                    ch3_data = ch3_data + new_ch3_data\n",
    "                    ch3_time = ch3_time + ch3_t\n",
    "\n",
    "                    new_ch4_data = temp_array[7]\n",
    "                    ch4_time_vec = temp_array[8]\n",
    "                    ch4_t =[t+time_diff for t in ch4_time_vec] # [data_time+t-start_time for t in ch4_time_vec]\n",
    "                    ch4_data = ch4_data + new_ch4_data\n",
    "                    ch4_time = ch4_time + ch4_t\n",
    "\n",
    "            except EOFError:\n",
    "                pass\n",
    "\n",
    "\n",
    "    t = ch1_time\n",
    "    x = ch1_data\n",
    "    ch_num = ch1_plot_title\n",
    "    ch_name = \"amplified signal\"\n",
    "    plotting_ch(t,x,start_time,ch_num,ch_name)   \n",
    "\n",
    "    t = ch4_time\n",
    "    x = ch4_data\n",
    "    ch_num = ch4_plot_title        \n",
    "    ch_name = \"non-amp-signal\"\n",
    "    plotting_ch(t,x,start_time,ch_num,ch_name)  \n",
    "\n",
    "    t = ch3_time\n",
    "    x = ch3_data\n",
    "    ch_num = ch3_plot_title      \n",
    "    ch_name = \"sum\"\n",
    "    plotting_ch(t,x,start_time,ch_num,ch_name)  \n",
    "    \n",
    "    t1 = ch1_time\n",
    "    t3= ch2_time\n",
    "    t4= ch4_time\n",
    "    x1= ch1_data\n",
    "    x3= ch3_data\n",
    "    x4= ch4_data\n",
    "    return t1,x1,t3,x3,t4,x4\n",
    "# ##################################################################################\n",
    "\n",
    "def plotting_ch(t,x,start_time,ch_num,ch_name):\n",
    "    # change to saving-directory\n",
    "#     save_to_path = os.path.join(repo_path, \"figs\")\n",
    "#     os.chdir(save_to_path)\n",
    "    #\n",
    "    add_the_time = datetime.datetime.fromtimestamp(start_time).strftime('%Y%m%d_%H%M')\n",
    "    print(add_the_time)\n",
    "    plt.title(datetime.datetime.fromtimestamp(start_time).strftime(ch_num+', '+ch_name+ ': %Y-%m-%d, at %H:%M:%S'))\n",
    "    plt.xlabel('[time [min]]')\n",
    "    plt.ylabel('[Volt]]')\n",
    "    plt.scatter(t, x,s = 1)\n",
    "#     save_name = \"fig_\"+add_the_time+\"_\"+ch_num+\"_min\"\n",
    "#     plt.savefig(save_name ,bbox_inches='tight')\n",
    "    plt.show()\n",
    "    \n",
    "    \n",
    "    \n",
    "def plotting_saving_ch(t,x,start_time,ch_num,ch_name):\n",
    "    # change to saving-directory\n",
    "    save_to_path = os.path.join(repo_path, \"figs\")\n",
    "    os.chdir(save_to_path)\n",
    "    #\n",
    "    add_the_time = datetime.datetime.fromtimestamp(start_time).strftime('%Y%m%d_%H%M')\n",
    "    print(add_the_time)\n",
    "    plt.title(datetime.datetime.fromtimestamp(start_time).strftime(ch_num+', '+ch_name+ ': %Y-%m-%d, at %H:%M:%S'))\n",
    "    plt.xlabel('[time [min]]')\n",
    "    plt.ylabel('[Volt]]')\n",
    "    plt.scatter(t, x,s = 1)\n",
    "    save_name = \"fig_\"+add_the_time+\"_\"+ch_num+\"_min\"\n",
    "    plt.savefig(save_name ,bbox_inches='tight')\n",
    "    plt.show()"
   ]
  },
  {
   "cell_type": "code",
   "execution_count": null,
   "metadata": {},
   "outputs": [],
   "source": []
  }
 ],
 "metadata": {
  "kernelspec": {
   "display_name": "Python 3",
   "language": "python",
   "name": "python3"
  },
  "language_info": {
   "codemirror_mode": {
    "name": "ipython",
    "version": 3
   },
   "file_extension": ".py",
   "mimetype": "text/x-python",
   "name": "python",
   "nbconvert_exporter": "python",
   "pygments_lexer": "ipython3",
   "version": "3.8.5"
  }
 },
 "nbformat": 4,
 "nbformat_minor": 4
}
