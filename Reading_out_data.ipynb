{
 "cells": [
  {
   "cell_type": "code",
   "execution_count": 6,
   "metadata": {},
   "outputs": [
    {
     "name": "stdout",
     "output_type": "stream",
     "text": [
      "C:\\Users\\Einav\\Google Drive (howell.lab@mail.huji.ac.il)\\Einav\\Precision measurement - window interferometer\\Python\\Pickle_data\n",
      "done\n"
     ]
    }
   ],
   "source": [
    "# Importing modules\n",
    "import numpy as np\n",
    "from matplotlib import pyplot as plt\n",
    "import os\n",
    "import datetime\n",
    "import pickle\n",
    "from statistics import mean \n",
    "from os.path import dirname as up\n",
    "\n",
    "# setting path to data\n",
    "repo_path = os.getcwd()\n",
    "save_to_path = os.path.join(file_path, \"figs\")\n",
    "os.chdir(save_to_path)\n",
    "\n",
    "two_up_path = up(up(repo_path))\n",
    "python_file_path = os.path.join(two_up_path, \"Python\")\n",
    "pickle_path = os.path.join(python_file_path, \"Pickle_data\") \n",
    "\n",
    "\n",
    "\n",
    "print(\"done\")\n",
    "# go back to original directory\n",
    "os.chdir(repo_path)"
   ]
  },
  {
   "cell_type": "markdown",
   "metadata": {},
   "source": [
    "I'd like to go through all the files in my current data folder.\n",
    "plot them out - and save to an image.\n",
    "the figure will have a flie name with a format:\n",
    "fig_2020_09_01.png\n",
    "saved to the original directory in the figs folder.\n",
    "\n",
    "- go_to_pickle_data(repo_path)\n",
    "- get data\n",
    "- print out the data\n",
    "- go back to fig_path\n",
    "- save\n",
    "- go back to the original directory."
   ]
  }
 ],
 "metadata": {
  "kernelspec": {
   "display_name": "Python 3",
   "language": "python",
   "name": "python3"
  },
  "language_info": {
   "codemirror_mode": {
    "name": "ipython",
    "version": 3
   },
   "file_extension": ".py",
   "mimetype": "text/x-python",
   "name": "python",
   "nbconvert_exporter": "python",
   "pygments_lexer": "ipython3",
   "version": "3.8.5"
  }
 },
 "nbformat": 4,
 "nbformat_minor": 4
}
