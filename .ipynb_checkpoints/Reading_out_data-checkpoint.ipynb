{
 "cells": [
  {
   "cell_type": "code",
   "execution_count": 28,
   "metadata": {},
   "outputs": [
    {
     "name": "stdout",
     "output_type": "stream",
     "text": [
      "ok\n",
      "done\n"
     ]
    }
   ],
   "source": [
    "# Importing modules\n",
    "import numpy as np\n",
    "from matplotlib import pyplot as plt\n",
    "import os\n",
    "import datetime\n",
    "import timeit\n",
    "import time\n",
    "import pickle\n",
    "from statistics import mean \n",
    "from os.path import dirname as up\n",
    "\n",
    "print(\"ok\")\n",
    "\n",
    "# setting path to data\n",
    "repo_path = os.getcwd()\n",
    "\n",
    "# functions to use:\n",
    "def get_pickle_path(repo_path):\n",
    "    two_up_path = up(up(repo_path))\n",
    "    python_file_path = os.path.join(two_up_path, \"Python\")\n",
    "    pickle_path = os.path.join(python_file_path, \"Pickle_data\") \n",
    "    return pickle_path\n",
    "\n",
    "def round_done():\n",
    "    os.chdir(repo_path)\n",
    "    print(\"done\")\n",
    "\n",
    "save_to_path = os.path.join(repo_path, \"figs\")\n",
    "os.chdir(save_to_path)\n",
    "\n",
    "print(\"done\")\n",
    "# go back to original directory\n",
    "os.chdir(repo_path)"
   ]
  },
  {
   "cell_type": "markdown",
   "metadata": {},
   "source": [
    "I'd like to go through all the files in my current data folder.\n",
    "plot them out - and save to an image.\n",
    "the figure will have a flie name with a format:\n",
    "fig_2020_09_01.png\n",
    "saved to the original directory in the figs folder.\n",
    "\n",
    "- go_to_pickle_data(repo_path)\n",
    "- get data\n",
    "- print out the data\n",
    "- go back to fig_path\n",
    "- save\n",
    "- go back to the original directory."
   ]
  },
  {
   "cell_type": "code",
   "execution_count": 54,
   "metadata": {},
   "outputs": [
    {
     "name": "stdout",
     "output_type": "stream",
     "text": [
      "done\n"
     ]
    }
   ],
   "source": [
    "pickle_path = get_pickle_path(repo_path)\n",
    "os.chdir(pickle_path)\n",
    "\n",
    "saved_files = os.listdir()\n",
    "# print(\"files in directory:\\n\",saved_files)\n",
    "\n",
    "round_done()"
   ]
  },
  {
   "cell_type": "code",
   "execution_count": 46,
   "metadata": {},
   "outputs": [
    {
     "name": "stdout",
     "output_type": "stream",
     "text": [
      "str_of_vars,t_stamp,ch1_data,ch1_time,ch3_data,ch3_time,ch4_data,ch4_time,ch1_data_again,ch1_time_again\n",
      "timestamps data retrieved\n",
      "done\n",
      "85\n",
      "done\n"
     ]
    }
   ],
   "source": [
    "# 20200916_1827\n",
    "\n",
    "list_of_files_yet_to_open = saved_files.copy()\n",
    "time_stamps = []\n",
    "\n",
    "# set path to get data\n",
    "pickle_path = get_pickle_path(repo_path)\n",
    "os.chdir(pickle_path)\n",
    "\n",
    "# get data\n",
    "file_name = 'data__20200916_1827.pickle'\n",
    "list_of_files_yet_to_open.remove(file_name)\n",
    "list_of_files_yet_to_open.remove('data__20200916_1827 - Copy.pickle')\n",
    "list_of_files_yet_to_open.remove('data__20200916_1827_Copy.pickle')\n",
    "\n",
    "f = open(file_name,'rb')\n",
    "scope_data = pickle.load(f)\n",
    "print(scope_data[0])\n",
    "\n",
    "start_time = scope_data[1]\n",
    "\n",
    "# get time stamps, this takes a while.\n",
    "with open(file_name, 'rb') as handle:\n",
    "        try:\n",
    "            while True:\n",
    "                temp_array = pickle.load(handle)\n",
    "                #scope_data.append(pickle.load(handle))\n",
    "                time_stamps.append(temp_array[1])\n",
    "        except EOFError:\n",
    "            pass\n",
    "        \n",
    "print(\"timestamps data retrieved\")\n",
    "print(\"this run was \"+10*len(time_stamps)+ \"minutes long\")\n",
    "\n",
    "# print(\"all the time stamps:\")\n",
    "# for x in range(len(time_stamps)):\n",
    "#     print(x,\" Started at :\", datetime.datetime.fromtimestamp(time_stamps[x]).strftime('%Y-%m-%d %H:%M:%S'))  \n",
    "\n",
    "round_done()"
   ]
  },
  {
   "cell_type": "code",
   "execution_count": 47,
   "metadata": {},
   "outputs": [
    {
     "name": "stdout",
     "output_type": "stream",
     "text": [
      "done, got data for ch1\n",
      "done\n"
     ]
    }
   ],
   "source": [
    "# 20200916_1827\n",
    "\n",
    "# set path to get data\n",
    "pickle_path = get_pickle_path(repo_path)\n",
    "os.chdir(pickle_path)\n",
    "\n",
    "# get avg data from ch1 [Amplified x axis]\n",
    "ch1_data = []\n",
    "ch1_time = []\n",
    "with open(file_name, 'rb') as handle:\n",
    "        try:\n",
    "            while True:\n",
    "                temp_array = pickle.load(handle)\n",
    "                #scope_data.append(pickle.load(handle))\n",
    "                ch1_data.append(mean( temp_array[2])) \n",
    "                #temp_time = temp_array[3]\n",
    "                #time_diff = temp_array[1]/60 - start_time\n",
    "                #temp_time = [x+time_diff for x in temp_time] \n",
    "                ch1_time.append(temp_array[1]) \n",
    "                \n",
    "        except EOFError:\n",
    "            pass\n",
    "print(\"done, got data for ch1\")\n",
    "ch1_time_min= [(x - start_time)/60 for x in ch1_time]  \n",
    "\n",
    "\n",
    "round_done()"
   ]
  },
  {
   "cell_type": "code",
   "execution_count": 52,
   "metadata": {},
   "outputs": [
    {
     "name": "stdout",
     "output_type": "stream",
     "text": [
      "20200916_1827\n"
     ]
    },
    {
     "data": {
      "image/png": "[encoded data removed]",
      "text/plain": [
       "<Figure size 432x288 with 1 Axes>"
      ]
     },
     "metadata": {
      "needs_background": "light"
     },
     "output_type": "display_data"
    },
    {
     "data": {
      "image/png": "[encoded data removed]",
      "text/plain": [
       "<Figure size 432x288 with 1 Axes>"
      ]
     },
     "metadata": {
      "needs_background": "light"
     },
     "output_type": "display_data"
    }
   ],
   "source": [
    "# 20200916_1827 - saving images\n",
    "save_to_path = os.path.join(repo_path, \"figs\")\n",
    "os.chdir(save_to_path)\n",
    "\n",
    "add_the_time = datetime.datetime.fromtimestamp(start_time).strftime('%Y%m%d_%H%M')\n",
    "print(add_the_time)\n",
    "\n",
    "plt.title(datetime.datetime.fromtimestamp(time_stamps[0]).strftime('x amplified : %Y-%m-%d, at %H:%M:%S'))\n",
    "plt.xlabel('time [min]')\n",
    "plt.ylabel('[Volt]]')\n",
    "\n",
    "plt.scatter(ch1_time_min, ch1_data,s = 1)\n",
    "save_name = \"fig_\"+add_the_time+\"_ch1_min\"\n",
    "plt.savefig(save_name ,bbox_inches='tight')\n",
    "plt.show()\n",
    "\n",
    "ch1_time_h= [x/60 for x in ch1_time_min]  \n",
    "\n",
    "plt.title(datetime.datetime.fromtimestamp(time_stamps[0]).strftime('x amplified : %Y-%m-%d, at %H:%M:%S'))\n",
    "plt.xlabel('time [hours]') \n",
    "plt.ylabel('[Volt]]')\n",
    "\n",
    "plt.scatter(ch1_time_h, ch1_data,s = 1)\n",
    "save_name = \"fig_\"+add_the_time+\"_ch1_hours\"\n",
    "plt.savefig(save_name ,bbox_inches='tight')\n",
    "plt.show()\n",
    "\n",
    "\n",
    "round_done()"
   ]
  },
  {
   "cell_type": "code",
   "execution_count": 56,
   "metadata": {},
   "outputs": [
    {
     "name": "stdout",
     "output_type": "stream",
     "text": [
      "done, got data for ch3 and ch4\n"
     ]
    },
    {
     "data": {
      "image/png": "[encoded data removed]",
      "text/plain": [
       "<Figure size 432x288 with 1 Axes>"
      ]
     },
     "metadata": {
      "needs_background": "light"
     },
     "output_type": "display_data"
    },
    {
     "data": {
      "image/png": "[encoded data removed]",
      "text/plain": [
       "<Figure size 432x288 with 1 Axes>"
      ]
     },
     "metadata": {
      "needs_background": "light"
     },
     "output_type": "display_data"
    },
    {
     "data": {
      "image/png": "[encoded data removed]",
      "text/plain": [
       "<Figure size 432x288 with 1 Axes>"
      ]
     },
     "metadata": {
      "needs_background": "light"
     },
     "output_type": "display_data"
    },
    {
     "data": {
      "image/png": "[encoded data removed]",
      "text/plain": [
       "<Figure size 432x288 with 1 Axes>"
      ]
     },
     "metadata": {
      "needs_background": "light"
     },
     "output_type": "display_data"
    },
    {
     "name": "stdout",
     "output_type": "stream",
     "text": [
      "done\n"
     ]
    }
   ],
   "source": [
    "# 20200916_1827 \n",
    "# get avg data from ch3 [sum]\n",
    "\n",
    "# set path to get data\n",
    "pickle_path = get_pickle_path(repo_path)\n",
    "os.chdir(pickle_path)\n",
    "\n",
    "ch3_data = []\n",
    "ch3_time = []\n",
    "ch4_data = []\n",
    "with open(file_name, 'rb') as handle:\n",
    "        try:\n",
    "            while True:\n",
    "                temp_array = pickle.load(handle)\n",
    "                #scope_data.append(pickle.load(handle))\n",
    "                ch3_data.append(mean( temp_array[4])) \n",
    "                ch4_data.append(mean( temp_array[6]))\n",
    "                #temp_time = temp_array[3]\n",
    "                #time_diff = temp_array[1]/60 - start_time\n",
    "                #temp_time = [x+time_diff for x in temp_time] \n",
    "                ch3_time.append(temp_array[1]) \n",
    "                \n",
    "        except EOFError:\n",
    "            pass\n",
    "print(\"done, got data for ch3 and ch4\")\n",
    "\n",
    "# set path to save.\n",
    "save_to_path = os.path.join(repo_path, \"figs\")\n",
    "os.chdir(save_to_path)\n",
    "\n",
    "ch3_time_min= [(x - start_time)/60 for x in ch1_time]  \n",
    "\n",
    "plt.title(datetime.datetime.fromtimestamp(time_stamps[0]).strftime('sum: %Y-%m-%d, at %H:%M:%S'))\n",
    "plt.xlabel('time [min]')\n",
    "plt.ylabel('[Volt]]')\n",
    "\n",
    "plt.scatter(ch3_time_min, ch3_data,s = 1)\n",
    "save_name = \"fig_\"+add_the_time+\"_ch3_min\"\n",
    "plt.savefig(save_name ,bbox_inches='tight')\n",
    "plt.show()\n",
    "\n",
    "\n",
    "ch3_time_h= [x/60+18.45 for x in ch1_time_min]  \n",
    "#or i in range(len(ch3_time_h)):\n",
    "    # ch3_time_h[i]>=24:\n",
    "        #h3_time_h[i] = ch3_time_h[i] - 24\n",
    "    \n",
    "\n",
    "plt.title(datetime.datetime.fromtimestamp(time_stamps[0]).strftime('sum: %Y-%m-%d, at %H:%M:%S')) \n",
    "plt.xlabel('time [hour]') \n",
    "plt.ylabel('[Volt]]')\n",
    "\n",
    "plt.scatter(ch3_time_h, ch3_data,s = 1)\n",
    "save_name = \"fig_\"+add_the_time+\"_ch3_hours\"\n",
    "plt.savefig(save_name ,bbox_inches='tight')\n",
    "plt.show()\n",
    "\n",
    "\n",
    "plt.title(datetime.datetime.fromtimestamp(time_stamps[0]).strftime('x, ch4: %Y-%m-%d, at %H:%M:%S'))\n",
    "plt.xlabel('time [min]')\n",
    "plt.ylabel('[Volt]]')\n",
    "\n",
    "plt.scatter(ch3_time_min, ch4_data,s = 1)\n",
    "save_name = \"fig_\"+add_the_time+\"_ch4_min\"\n",
    "plt.savefig(save_name ,bbox_inches='tight')\n",
    "plt.show()\n",
    "\n",
    "plt.title(datetime.datetime.fromtimestamp(time_stamps[0]).strftime('x, ch4: %Y-%m-%d, at %H:%M:%S')) \n",
    "plt.xlabel('time [hour]') \n",
    "plt.ylabel('[Volt]]')\n",
    "\n",
    "plt.scatter(ch3_time_h, ch4_data,s = 1)\n",
    "save_name = \"fig_\"+add_the_time+\"_ch4_hours\"\n",
    "plt.savefig(save_name ,bbox_inches='tight')\n",
    "plt.show()\n",
    "\n",
    "round_done()"
   ]
  },
  {
   "cell_type": "code",
   "execution_count": 79,
   "metadata": {},
   "outputs": [
    {
     "data": {
      "image/png": "[encoded data removed]",
      "text/plain": [
       "<Figure size 432x288 with 1 Axes>"
      ]
     },
     "metadata": {
      "needs_background": "light"
     },
     "output_type": "display_data"
    },
    {
     "name": "stdout",
     "output_type": "stream",
     "text": [
      "done\n"
     ]
    }
   ],
   "source": [
    "# 20200913_1219\n",
    "\n",
    "time_stamps = []\n",
    "\n",
    "# set path to get data\n",
    "pickle_path = get_pickle_path(repo_path)\n",
    "os.chdir(pickle_path)\n",
    "\n",
    "# get data\n",
    "file_name = 'data_130920n1219.pickle'\n",
    "# list_of_files_yet_to_open.remove(file_name)\n",
    "f = open(file_name,'rb')\n",
    "scope_data = pickle.load(f)\n",
    "# print(scope_data[1])\n",
    "# print(len(scope_data))\n",
    "x = scope_data[1]\n",
    "t = scope_data[0][1:]\n",
    "start_time = scope_data[0][0]\n",
    "# print(len(x),len(t))\n",
    "\n",
    "save_to_path = os.path.join(repo_path, \"figs\")\n",
    "os.chdir(save_to_path)\n",
    "\n",
    "add_the_time = datetime.datetime.fromtimestamp(start_time).strftime('%Y%m%d_%H%M')\n",
    "# print(add_the_time)\n",
    "\n",
    "plt.title(datetime.datetime.fromtimestamp(start_time).strftime('ch1, x amplified : %Y-%m-%d, at %H:%M:%S'))\n",
    "plt.xlabel('time [min]')\n",
    "plt.ylabel('[Volt]]')\n",
    "plt.scatter(t, x,s = 1)\n",
    "save_name = \"fig_\"+add_the_time+\"_ch1_min\"\n",
    "plt.savefig(save_name ,bbox_inches='tight')\n",
    "plt.show()\n",
    "\n",
    "round_done()"
   ]
  },
  {
   "cell_type": "code",
   "execution_count": 94,
   "metadata": {},
   "outputs": [
    {
     "name": "stdout",
     "output_type": "stream",
     "text": [
      "[]\n",
      "[]\n",
      "done\n"
     ]
    }
   ],
   "source": [
    "# 140920_1818\n",
    "# nothing here... \n",
    "time_stamps = []\n",
    "\n",
    "# set path to get data\n",
    "pickle_path = get_pickle_path(repo_path)\n",
    "os.chdir(pickle_path)\n",
    "\n",
    "# get data\n",
    "file_name = 'data_140920n1818.pickle'\n",
    "# list_of_files_yet_to_open.remove(file_name)\n",
    "f = open(file_name,'rb')\n",
    "scope_data = pickle.load(f)\n",
    "print(scope_data)\n",
    "# print(len(scope_data))\n",
    "\n",
    "with open(file_name, 'rb') as handle:\n",
    "        try:\n",
    "            while True:\n",
    "                temp_array = pickle.load(handle)\n",
    "                print(temp_array)\n",
    "        except EOFError:\n",
    "            pass\n",
    "\n",
    "round_done()"
   ]
  },
  {
   "cell_type": "code",
   "execution_count": 91,
   "metadata": {},
   "outputs": [
    {
     "name": "stdout",
     "output_type": "stream",
     "text": [
      "23\n",
      "['data_200913n1600.pickle', 'data_200915__1140.pickle', 'data_200915__1700.pickle', 'data_200915__2300.pickle', 'data_200916__1248.pickle', 'data_20200923_0905.pickle', 'data_20200924_1510.pickle', 'data_dump_090920n1914.pickle', 'data__20200916_1754.pickle', 'data__20200917_1418.pickle', 'data__20200917_1458.pickle', 'data__20200917_1529.pickle', 'data__20200917_1716.pickle', 'data__20200917_1811.pickle', 'data__20200917_1855.pickle', 'data__20200921_1228.pickle', 'data__20200923_0815.pickle', 'demo_3min_data__20200916_1812.pickle', 'demo_3min_data__20200916_1819.pickle', 'demo_run_0931.pickle', 'demo_run_20200916_1419.pickle', 'demo_run_20200916_1422.pickle', 'desktop.ini']\n"
     ]
    }
   ],
   "source": [
    "# list_of_files_yet_to_open.remove(file_name)\n",
    "print(len(list_of_files_yet_to_open))\n",
    "print(list_of_files_yet_to_open)\n"
   ]
  },
  {
   "cell_type": "code",
   "execution_count": 83,
   "metadata": {},
   "outputs": [
    {
     "data": {
      "text/plain": [
       "['data_140920n1818.pickle',\n",
       " 'data_200913n1600.pickle',\n",
       " 'data_200915__1140.pickle',\n",
       " 'data_200915__1700.pickle',\n",
       " 'data_200915__2300.pickle',\n",
       " 'data_200916__1248.pickle',\n",
       " 'data_20200923_0905.pickle',\n",
       " 'data_20200924_1510.pickle',\n",
       " 'data_dump_090920n1914.pickle',\n",
       " 'data__20200916_1754.pickle',\n",
       " 'data__20200917_1418.pickle',\n",
       " 'data__20200917_1458.pickle',\n",
       " 'data__20200917_1529.pickle',\n",
       " 'data__20200917_1716.pickle',\n",
       " 'data__20200917_1811.pickle',\n",
       " 'data__20200917_1855.pickle',\n",
       " 'data__20200921_1228.pickle',\n",
       " 'data__20200923_0815.pickle',\n",
       " 'demo_3min_data__20200916_1812.pickle',\n",
       " 'demo_3min_data__20200916_1819.pickle',\n",
       " 'demo_run_0931.pickle',\n",
       " 'demo_run_20200916_1419.pickle',\n",
       " 'demo_run_20200916_1422.pickle',\n",
       " 'desktop.ini']"
      ]
     },
     "execution_count": 83,
     "metadata": {},
     "output_type": "execute_result"
    }
   ],
   "source": [
    "list_of_files_yet_to_open"
   ]
  },
  {
   "cell_type": "code",
   "execution_count": null,
   "metadata": {},
   "outputs": [],
   "source": []
  }
 ],
 "metadata": {
  "kernelspec": {
   "display_name": "Python 3",
   "language": "python",
   "name": "python3"
  },
  "language_info": {
   "codemirror_mode": {
    "name": "ipython",
    "version": 3
   },
   "file_extension": ".py",
   "mimetype": "text/x-python",
   "name": "python",
   "nbconvert_exporter": "python",
   "pygments_lexer": "ipython3",
   "version": "3.8.5"
  }
 },
 "nbformat": 4,
 "nbformat_minor": 4
}
