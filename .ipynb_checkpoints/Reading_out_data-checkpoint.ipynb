{
 "cells": [
  {
   "cell_type": "code",
   "execution_count": 28,
   "metadata": {},
   "outputs": [
    {
     "name": "stdout",
     "output_type": "stream",
     "text": [
      "ok\n",
      "done\n"
     ]
    }
   ],
   "source": [
    "# Importing modules\n",
    "import numpy as np\n",
    "from matplotlib import pyplot as plt\n",
    "import os\n",
    "import datetime\n",
    "import timeit\n",
    "import time\n",
    "import pickle\n",
    "from statistics import mean \n",
    "from os.path import dirname as up\n",
    "\n",
    "print(\"ok\")\n",
    "\n",
    "# setting path to data\n",
    "repo_path = os.getcwd()\n",
    "\n",
    "# functions to use:\n",
    "def get_pickle_path(repo_path):\n",
    "    two_up_path = up(up(repo_path))\n",
    "    python_file_path = os.path.join(two_up_path, \"Python\")\n",
    "    pickle_path = os.path.join(python_file_path, \"Pickle_data\") \n",
    "    return pickle_path\n",
    "\n",
    "def round_done():\n",
    "    os.chdir(repo_path)\n",
    "    print(\"done\")\n",
    "\n",
    "save_to_path = os.path.join(repo_path, \"figs\")\n",
    "os.chdir(save_to_path)\n",
    "\n",
    "print(\"done\")\n",
    "# go back to original directory\n",
    "os.chdir(repo_path)"
   ]
  },
  {
   "cell_type": "markdown",
   "metadata": {},
   "source": [
    "I'd like to go through all the files in my current data folder.\n",
    "plot them out - and save to an image.\n",
    "the figure will have a flie name with a format:\n",
    "fig_2020_09_01.png\n",
    "saved to the original directory in the figs folder.\n",
    "\n",
    "- go_to_pickle_data(repo_path)\n",
    "- get data\n",
    "- print out the data\n",
    "- go back to fig_path\n",
    "- save\n",
    "- go back to the original directory."
   ]
  },
  {
   "cell_type": "code",
   "execution_count": 43,
   "metadata": {},
   "outputs": [
    {
     "name": "stdout",
     "output_type": "stream",
     "text": [
      "files in directory:\n",
      " ['data_130920n1219.pickle', 'data_140920n1818.pickle', 'data_200913n1600.pickle', 'data_200915__1140.pickle', 'data_200915__1700.pickle', 'data_200915__2300.pickle', 'data_200916__1248.pickle', 'data_20200923_0905.pickle', 'data_20200924_1510.pickle', 'data_dump_090920n1914.pickle', 'data__20200916_1754.pickle', 'data__20200916_1827 - Copy.pickle', 'data__20200916_1827.pickle', 'data__20200916_1827_Copy.pickle', 'data__20200917_1418.pickle', 'data__20200917_1458.pickle', 'data__20200917_1529.pickle', 'data__20200917_1716.pickle', 'data__20200917_1811.pickle', 'data__20200917_1855.pickle', 'data__20200921_1228.pickle', 'data__20200923_0815.pickle', 'demo_3min_data__20200916_1812.pickle', 'demo_3min_data__20200916_1819.pickle', 'demo_run_0931.pickle', 'demo_run_20200916_1419.pickle', 'demo_run_20200916_1422.pickle', 'desktop.ini']\n",
      "done\n"
     ]
    }
   ],
   "source": [
    "pickle_path = get_pickle_path(repo_path)\n",
    "os.chdir(pickle_path)\n",
    "\n",
    "saved_files = os.listdir()\n",
    "print(\"files in directory:\\n\",saved_files)\n",
    "\n",
    "round_done()"
   ]
  },
  {
   "cell_type": "code",
   "execution_count": 46,
   "metadata": {},
   "outputs": [
    {
     "name": "stdout",
     "output_type": "stream",
     "text": [
      "str_of_vars,t_stamp,ch1_data,ch1_time,ch3_data,ch3_time,ch4_data,ch4_time,ch1_data_again,ch1_time_again\n",
      "timestamps data retrieved\n",
      "done\n",
      "85\n",
      "done\n"
     ]
    }
   ],
   "source": [
    "# 20200916_1827\n",
    "\n",
    "list_of_files_yet_to_open = saved_files.copy()\n",
    "time_stamps = []\n",
    "\n",
    "# set path to get data\n",
    "pickle_path = get_pickle_path(repo_path)\n",
    "os.chdir(pickle_path)\n",
    "\n",
    "# get data\n",
    "file_name = 'data__20200916_1827_Copy.pickle'\n",
    "list_of_files_yet_to_open.remove(file_name)\n",
    "\n",
    "f = open(file_name,'rb')\n",
    "scope_data = pickle.load(f)\n",
    "print(scope_data[0])\n",
    "\n",
    "start_time = scope_data[1]\n",
    "\n",
    "# get time stamps, this takes a while.\n",
    "with open(file_name, 'rb') as handle:\n",
    "        try:\n",
    "            while True:\n",
    "                temp_array = pickle.load(handle)\n",
    "                #scope_data.append(pickle.load(handle))\n",
    "                time_stamps.append(temp_array[1])\n",
    "        except EOFError:\n",
    "            pass\n",
    "        \n",
    "print(\"timestamps data retrieved\")\n",
    "print(len(time_stamps))\n",
    "\n",
    "# print(\"all the time stamps:\")\n",
    "# for x in range(len(time_stamps)):\n",
    "#     print(x,\" Started at :\", datetime.datetime.fromtimestamp(time_stamps[x]).strftime('%Y-%m-%d %H:%M:%S'))  \n",
    "\n",
    "round_done()"
   ]
  },
  {
   "cell_type": "code",
   "execution_count": 47,
   "metadata": {},
   "outputs": [
    {
     "name": "stdout",
     "output_type": "stream",
     "text": [
      "done, got data for ch1\n",
      "done\n"
     ]
    }
   ],
   "source": [
    "# 20200916_1827\n",
    "\n",
    "# set path to get data\n",
    "pickle_path = get_pickle_path(repo_path)\n",
    "os.chdir(pickle_path)\n",
    "\n",
    "# get avg data from ch1 [Amplified x axis]\n",
    "ch1_data = []\n",
    "ch1_time = []\n",
    "with open(file_name, 'rb') as handle:\n",
    "        try:\n",
    "            while True:\n",
    "                temp_array = pickle.load(handle)\n",
    "                #scope_data.append(pickle.load(handle))\n",
    "                ch1_data.append(mean( temp_array[2])) \n",
    "                #temp_time = temp_array[3]\n",
    "                #time_diff = temp_array[1]/60 - start_time\n",
    "                #temp_time = [x+time_diff for x in temp_time] \n",
    "                ch1_time.append(temp_array[1]) \n",
    "                \n",
    "        except EOFError:\n",
    "            pass\n",
    "print(\"done, got data for ch1\")\n",
    "ch1_time_min= [(x - start_time)/60 for x in ch1_time]  \n",
    "round_done()"
   ]
  },
  {
   "cell_type": "code",
   "execution_count": 49,
   "metadata": {},
   "outputs": [
    {
     "data": {
      "image/png": "[encoded data removed]",
      "text/plain": [
       "<Figure size 432x288 with 1 Axes>"
      ]
     },
     "metadata": {
      "needs_background": "light"
     },
     "output_type": "display_data"
    },
    {
     "data": {
      "image/png": "[encoded data removed]",
      "text/plain": [
       "<Figure size 432x288 with 1 Axes>"
      ]
     },
     "metadata": {
      "needs_background": "light"
     },
     "output_type": "display_data"
    }
   ],
   "source": [
    "plt.title(datetime.datetime.fromtimestamp(time_stamps[0]).strftime('x amplified : %Y-%m-%d, at %H:%M:%S'))\n",
    "plt.xlabel('time [min]')\n",
    "plt.ylabel('[Volt]]')\n",
    "\n",
    "plt.scatter(ch1_time_min, ch1_data,s = 1)\n",
    "plt.show()\n",
    "\n",
    "ch1_time_h= [x/60 for x in ch1_time_min]  \n",
    "\n",
    "plt.title(datetime.datetime.fromtimestamp(time_stamps[0]).strftime('x amplified : %Y-%m-%d, at %H:%M:%S'))\n",
    "plt.xlabel('time [hours]') \n",
    "plt.ylabel('[Volt]]')\n",
    "\n",
    "plt.scatter(ch1_time_h, ch1_data,s = 1)\n",
    "plt.show()"
   ]
  },
  {
   "cell_type": "code",
   "execution_count": 37,
   "metadata": {},
   "outputs": [
    {
     "name": "stdout",
     "output_type": "stream",
     "text": [
      "27\n",
      "['data_130920n1219.pickle', 'data_140920n1818.pickle', 'data_200913n1600.pickle', 'data_200915__1140.pickle', 'data_200915__1700.pickle', 'data_200915__2300.pickle', 'data_200916__1248.pickle', 'data_20200923_0905.pickle', 'data_20200924_1510.pickle', 'data_dump_090920n1914.pickle', 'data__20200916_1754.pickle', 'data__20200916_1827 - Copy.pickle', 'data__20200916_1827.pickle', 'data__20200917_1418.pickle', 'data__20200917_1458.pickle', 'data__20200917_1529.pickle', 'data__20200917_1716.pickle', 'data__20200917_1811.pickle', 'data__20200917_1855.pickle', 'data__20200921_1228.pickle', 'data__20200923_0815.pickle', 'demo_3min_data__20200916_1812.pickle', 'demo_3min_data__20200916_1819.pickle', 'demo_run_0931.pickle', 'demo_run_20200916_1419.pickle', 'demo_run_20200916_1422.pickle', 'desktop.ini']\n"
     ]
    }
   ],
   "source": [
    "print(len(list_of_files_yet_to_open))\n",
    "print(list_of_files_yet_to_open)\n"
   ]
  },
  {
   "cell_type": "code",
   "execution_count": 38,
   "metadata": {},
   "outputs": [
    {
     "ename": "ValueError",
     "evalue": "list.remove(x): x not in list",
     "output_type": "error",
     "traceback": [
      "\u001b[1;31m---------------------------------------------------------------------------\u001b[0m",
      "\u001b[1;31mValueError\u001b[0m                                Traceback (most recent call last)",
      "\u001b[1;32m<ipython-input-38-684d657bee7a>\u001b[0m in \u001b[0;36m<module>\u001b[1;34m\u001b[0m\n\u001b[0;32m      1\u001b[0m \u001b[1;31m# a_list = [1,2,3,'a','b','c']\u001b[0m\u001b[1;33m\u001b[0m\u001b[1;33m\u001b[0m\u001b[1;33m\u001b[0m\u001b[0m\n\u001b[1;32m----> 2\u001b[1;33m \u001b[0ma_list\u001b[0m\u001b[1;33m.\u001b[0m\u001b[0mremove\u001b[0m\u001b[1;33m(\u001b[0m\u001b[1;34m'a'\u001b[0m\u001b[1;33m)\u001b[0m\u001b[1;33m\u001b[0m\u001b[1;33m\u001b[0m\u001b[0m\n\u001b[0m\u001b[0;32m      3\u001b[0m \u001b[0mprint\u001b[0m\u001b[1;33m(\u001b[0m\u001b[0ma_list\u001b[0m\u001b[1;33m)\u001b[0m\u001b[1;33m\u001b[0m\u001b[1;33m\u001b[0m\u001b[0m\n",
      "\u001b[1;31mValueError\u001b[0m: list.remove(x): x not in list"
     ]
    }
   ],
   "source": []
  },
  {
   "cell_type": "code",
   "execution_count": null,
   "metadata": {},
   "outputs": [],
   "source": []
  }
 ],
 "metadata": {
  "kernelspec": {
   "display_name": "Python 3",
   "language": "python",
   "name": "python3"
  },
  "language_info": {
   "codemirror_mode": {
    "name": "ipython",
    "version": 3
   },
   "file_extension": ".py",
   "mimetype": "text/x-python",
   "name": "python",
   "nbconvert_exporter": "python",
   "pygments_lexer": "ipython3",
   "version": "3.8.5"
  }
 },
 "nbformat": 4,
 "nbformat_minor": 4
}
